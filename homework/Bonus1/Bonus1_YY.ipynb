{
 "cells": [
  {
   "cell_type": "markdown",
   "metadata": {},
   "source": [
    "# Bonus 1: Numerical Optimization for Logistic Regression.\n",
    "\n",
    "### Name: [Your-Name?]\n"
   ]
  },
  {
   "cell_type": "markdown",
   "metadata": {},
   "source": [
    "## 0. You will do the following:\n",
    "\n",
    "1. Read the lecture note: [click here](https://github.com/wangshusen/DeepLearning/blob/master/LectureNotes/Logistic/paper/logistic.pdf)\n",
    "\n",
    "2. Read, complete, and run my code.\n",
    "\n",
    "3. **Implement mini-batch SGD** and evaluate the performance. (1 bonus point.)\n",
    "\n",
    "4. Convert the .IPYNB file to .HTML file.\n",
    "\n",
    "    * The HTML file must contain **the code** and **the output after execution**.\n",
    "    \n",
    "5. Upload this .HTML file to your Github repo.\n",
    "\n",
    "6. Submit the link to this .HTML file to Canvas.\n",
    "\n",
    "    * Example: https://github.com/wangshusen/CS583-2019F/blob/master/homework/Bonus1/Bonus1.html\n",
    "\n",
    "\n",
    "## Grading criteria:\n",
    "\n",
    "1. When computing the ```gradient``` and ```objective function value``` using a batch of samples, use **matrix-vector multiplication** rather than a FOR LOOP of **vector-vector multiplications**.\n",
    "\n",
    "2. Plot ```objective function value``` against ```epochs```. In the plot, compare GD, SGD, and MB-SGD (with $b=8$ and $b=64$). The plot must look reasonable."
   ]
  },
  {
   "cell_type": "code",
   "execution_count": null,
   "metadata": {},
   "outputs": [],
   "source": []
  },
  {
   "cell_type": "markdown",
   "metadata": {},
   "source": [
    "# 1. Data processing\n",
    "\n",
    "- Download the Diabete dataset from https://www.csie.ntu.edu.tw/~cjlin/libsvmtools/datasets/binary/diabetes\n",
    "- Load the data using sklearn.\n",
    "- Preprocess the data."
   ]
  },
  {
   "cell_type": "markdown",
   "metadata": {},
   "source": [
    "## 1.1. Load the data"
   ]
  },
  {
   "cell_type": "code",
   "execution_count": 279,
   "metadata": {},
   "outputs": [
    {
     "name": "stdout",
     "output_type": "stream",
     "text": [
      "Shape of x: (768, 8)\n",
      "Shape of y: (768,)\n"
     ]
    }
   ],
   "source": [
    "from sklearn import datasets\n",
    "import numpy\n",
    "\n",
    "x_sparse, y = datasets.load_svmlight_file('diabetes')\n",
    "x = x_sparse.todense()\n",
    "\n",
    "print('Shape of x: ' + str(x.shape))\n",
    "print('Shape of y: ' + str(y.shape))"
   ]
  },
  {
   "cell_type": "markdown",
   "metadata": {},
   "source": [
    "## 1.2. Partition to training and test sets"
   ]
  },
  {
   "cell_type": "code",
   "execution_count": 280,
   "metadata": {},
   "outputs": [
    {
     "name": "stdout",
     "output_type": "stream",
     "text": [
      "Shape of x_train: (615, 8)\n",
      "Shape of x_test: (153, 8)\n",
      "Shape of y_train: (615, 1)\n",
      "Shape of y_test: (153, 1)\n"
     ]
    }
   ],
   "source": [
    "# partition the data to training and test sets\n",
    "n = x.shape[0]\n",
    "n_train = int(numpy.ceil(n * 0.8))\n",
    "n_test = n - n_train\n",
    "\n",
    "rand_indices = numpy.random.permutation(n)\n",
    "train_indices = rand_indices[0:n_train]\n",
    "test_indices = rand_indices[n_train:n]\n",
    "\n",
    "x_train = x[train_indices, :]\n",
    "x_test = x[test_indices, :]\n",
    "y_train = y[train_indices].reshape(n_train, 1)\n",
    "y_test = y[test_indices].reshape(n_test, 1)\n",
    "\n",
    "print('Shape of x_train: ' + str(x_train.shape))\n",
    "print('Shape of x_test: ' + str(x_test.shape))\n",
    "print('Shape of y_train: ' + str(y_train.shape))\n",
    "print('Shape of y_test: ' + str(y_test.shape))"
   ]
  },
  {
   "cell_type": "markdown",
   "metadata": {},
   "source": [
    "## 1.3. Feature scaling"
   ]
  },
  {
   "cell_type": "markdown",
   "metadata": {},
   "source": [
    "Use the standardization to trainsform both training and test features"
   ]
  },
  {
   "cell_type": "code",
   "execution_count": 281,
   "metadata": {},
   "outputs": [
    {
     "name": "stdout",
     "output_type": "stream",
     "text": [
      "test mean = \n",
      "[[ 0.01629479 -0.00485657  0.11666841  0.03951118  0.00525519 -0.00784636\n",
      "  -0.0397758   0.02086282]]\n",
      "test std = \n",
      "[[1.01160281 1.0389909  0.89426544 0.95009884 1.09797782 0.93950271\n",
      "  0.88283209 0.98242526]]\n"
     ]
    }
   ],
   "source": [
    "# Standardization\n",
    "import numpy\n",
    "\n",
    "# calculate mu and sig using the training set\n",
    "d = x_train.shape[1]\n",
    "mu = numpy.mean(x_train, axis=0).reshape(1, d)\n",
    "sig = numpy.std(x_train, axis=0).reshape(1, d)\n",
    "\n",
    "# transform the training features\n",
    "x_train = (x_train - mu) / (sig + 1E-6)\n",
    "\n",
    "# transform the test features\n",
    "x_test = (x_test - mu) / (sig + 1E-6)\n",
    "\n",
    "print('test mean = ')\n",
    "print(numpy.mean(x_test, axis=0))\n",
    "\n",
    "print('test std = ')\n",
    "print(numpy.std(x_test, axis=0))"
   ]
  },
  {
   "cell_type": "markdown",
   "metadata": {},
   "source": [
    "## 1.4. Add a dimension of all ones"
   ]
  },
  {
   "cell_type": "code",
   "execution_count": 283,
   "metadata": {},
   "outputs": [
    {
     "name": "stdout",
     "output_type": "stream",
     "text": [
      "Shape of x_train: (615, 9)\n",
      "Shape of x_test: (153, 9)\n"
     ]
    }
   ],
   "source": [
    "n_train, d = x_train.shape\n",
    "x_train = numpy.concatenate((x_train, numpy.ones((n_train, 1))), axis=1)\n",
    "\n",
    "n_test, d = x_test.shape\n",
    "x_test = numpy.concatenate((x_test, numpy.ones((n_test, 1))), axis=1)\n",
    "\n",
    "print('Shape of x_train: ' + str(x_train.shape))\n",
    "print('Shape of x_test: ' + str(x_test.shape))"
   ]
  },
  {
   "cell_type": "markdown",
   "metadata": {},
   "source": [
    "# 2. Logistic regression model\n",
    "\n",
    "The objective function is $Q (w; X, y) = \\frac{1}{n} \\sum_{i=1}^n \\log \\Big( 1 + \\exp \\big( - y_i x_i^T w \\big) \\Big) + \\frac{\\lambda}{2} \\| w \\|_2^2 $."
   ]
  },
  {
   "cell_type": "code",
   "execution_count": 284,
   "metadata": {},
   "outputs": [],
   "source": [
    "# Calculate the objective function value\n",
    "# Inputs:\n",
    "#     w: d-by-1 matrix\n",
    "#     x: n-by-d matrix\n",
    "#     y: n-by-1 matrix\n",
    "#     lam: scalar, the regularization parameter\n",
    "# Return:\n",
    "#     objective function value (scalar)\n",
    "def objective(w, x, y, lam):\n",
    "    n, d = x.shape\n",
    "    yx = numpy.multiply(y, x) # n-by-d matrix\n",
    "    yxw = numpy.dot(yx, w) # n-by-1 matrix\n",
    "    vec1 = numpy.exp(-yxw) # n-by-1 matrix\n",
    "    vec2 = numpy.log(1 + vec1) # n-by-1 matrix\n",
    "    loss = numpy.mean(vec2) # scalar\n",
    "    reg = lam / 2 * numpy.sum(w * w) # scalar\n",
    "    return loss + reg\n",
    "    "
   ]
  },
  {
   "cell_type": "code",
   "execution_count": 285,
   "metadata": {},
   "outputs": [
    {
     "name": "stdout",
     "output_type": "stream",
     "text": [
      "(768, 8)\n"
     ]
    }
   ],
   "source": [
    "print(x.shape)"
   ]
  },
  {
   "cell_type": "code",
   "execution_count": 286,
   "metadata": {},
   "outputs": [
    {
     "name": "stdout",
     "output_type": "stream",
     "text": [
      "Initial objective function value = 0.6931471805599453\n"
     ]
    }
   ],
   "source": [
    "# initialize w\n",
    "d = x_train.shape[1]\n",
    "w = numpy.zeros((d, 1))\n",
    "\n",
    "# evaluate the objective function value at w\n",
    "lam = 1E-6\n",
    "objval0 = objective(w, x_train, y_train, lam)\n",
    "print('Initial objective function value = ' + str(objval0))"
   ]
  },
  {
   "cell_type": "markdown",
   "metadata": {},
   "source": [
    "# 3. Numerical optimization"
   ]
  },
  {
   "cell_type": "markdown",
   "metadata": {},
   "source": [
    "## 3.1. Gradient descent\n"
   ]
  },
  {
   "cell_type": "markdown",
   "metadata": {},
   "source": [
    "The gradient at $w$ is $g = - \\frac{1}{n} \\sum_{i=1}^n \\frac{y_i x_i }{1 + \\exp ( y_i x_i^T w)} + \\lambda w$"
   ]
  },
  {
   "cell_type": "code",
   "execution_count": 287,
   "metadata": {},
   "outputs": [],
   "source": [
    "# Calculate the gradient\n",
    "# Inputs:\n",
    "#     w: d-by-1 matrix\n",
    "#     x: n-by-d matrix\n",
    "#     y: n-by-1 matrix\n",
    "#     lam: scalar, the regularization parameter\n",
    "# Return:\n",
    "#     g: g: d-by-1 matrix, full gradient\n",
    "def gradient(w, x, y, lam):\n",
    "    n, d = x.shape\n",
    "    yx = numpy.multiply(y, x) # n-by-d matrix\n",
    "    yxw = numpy.dot(yx, w) # n-by-1 matrix\n",
    "    vec1 = numpy.exp(yxw) # n-by-1 matrix\n",
    "    vec2 = numpy.divide(yx, 1+vec1) # n-by-d matrix\n",
    "    vec3 = -numpy.mean(vec2, axis=0).reshape(d, 1) # d-by-1 matrix\n",
    "    g = vec3 + lam * w\n",
    "    return g"
   ]
  },
  {
   "cell_type": "code",
   "execution_count": 288,
   "metadata": {},
   "outputs": [],
   "source": [
    "# Gradient descent for solving logistic regression\n",
    "# Inputs:\n",
    "#     x: n-by-d matrix\n",
    "#     y: n-by-1 matrix\n",
    "#     lam: scalar, the regularization parameter\n",
    "#     stepsize: scalar\n",
    "#     max_iter: integer, the maximal iterations\n",
    "#     w: d-by-1 matrix, initialization of w\n",
    "# Return:\n",
    "#     w: d-by-1 matrix, the solution\n",
    "#     objvals: a record of each iteration's objective value\n",
    "def grad_descent(x, y, lam, stepsize, max_iter=100, w=None):\n",
    "    n, d = x.shape\n",
    "    objvals = numpy.zeros(max_iter) # store the objective values\n",
    "    if w is None:\n",
    "        w = numpy.zeros((d, 1)) # zero initialization\n",
    "    \n",
    "    for t in range(max_iter):\n",
    "        objval = objective(w, x, y, lam)\n",
    "        objvals[t] = objval\n",
    "        print('Objective value at t=' + str(t) + ' is ' + str(objval))\n",
    "        g = gradient(w, x, y, lam)\n",
    "        w -= stepsize * g\n",
    "    \n",
    "    return w, objvals"
   ]
  },
  {
   "cell_type": "markdown",
   "metadata": {},
   "source": [
    "Run gradient descent."
   ]
  },
  {
   "cell_type": "code",
   "execution_count": 289,
   "metadata": {},
   "outputs": [
    {
     "name": "stdout",
     "output_type": "stream",
     "text": [
      "Objective value at t=0 is 0.6931471805599453\n",
      "Objective value at t=1 is 0.5844215271566097\n",
      "Objective value at t=2 is 0.5410618019328941\n",
      "Objective value at t=3 is 0.5176898001870635\n",
      "Objective value at t=4 is 0.5029495343257528\n",
      "Objective value at t=5 is 0.4928272567338574\n",
      "Objective value at t=6 is 0.485510141070479\n",
      "Objective value at t=7 is 0.4800381736715933\n",
      "Objective value at t=8 is 0.4758455763517734\n",
      "Objective value at t=9 is 0.47257345912289267\n",
      "Objective value at t=10 is 0.46998201949410146\n",
      "Objective value at t=11 is 0.46790480253207056\n",
      "Objective value at t=12 is 0.4662228497967258\n",
      "Objective value at t=13 is 0.46484914953761164\n",
      "Objective value at t=14 is 0.4637188258999685\n",
      "Objective value at t=15 is 0.4627827150069705\n",
      "Objective value at t=16 is 0.462003032429822\n",
      "Objective value at t=17 is 0.4613503793227188\n",
      "Objective value at t=18 is 0.46080163067233504\n",
      "Objective value at t=19 is 0.46033841899436145\n",
      "Objective value at t=20 is 0.45994602830614256\n",
      "Objective value at t=21 is 0.4596125758971674\n",
      "Objective value at t=22 is 0.45932839922457985\n",
      "Objective value at t=23 is 0.45908559112763886\n",
      "Objective value at t=24 is 0.45887764370314227\n",
      "Objective value at t=25 is 0.4586991727533794\n",
      "Objective value at t=26 is 0.4585457026477963\n",
      "Objective value at t=27 is 0.4584134969527526\n",
      "Objective value at t=28 is 0.4582994240677067\n",
      "Objective value at t=29 is 0.4582008498759824\n",
      "Objective value at t=30 is 0.4581155514161927\n",
      "Objective value at t=31 is 0.4580416470370143\n",
      "Objective value at t=32 is 0.457977539570694\n",
      "Objective value at t=33 is 0.4579218698581147\n",
      "Objective value at t=34 is 0.45787347855638194\n",
      "Objective value at t=35 is 0.4578313746123178\n",
      "Objective value at t=36 is 0.45779470913018605\n",
      "Objective value at t=37 is 0.45776275362693114\n",
      "Objective value at t=38 is 0.4577348818731989\n",
      "Objective value at t=39 is 0.45771055467804145\n",
      "Objective value at t=40 is 0.45768930710033995\n",
      "Objective value at t=41 is 0.4576707376686276\n",
      "Objective value at t=42 is 0.4576544992692362\n",
      "Objective value at t=43 is 0.45764029142506024\n",
      "Objective value at t=44 is 0.4576278537372178\n",
      "Objective value at t=45 is 0.4576169603021347\n",
      "Objective value at t=46 is 0.4576074149491373\n",
      "Objective value at t=47 is 0.45759904717009675\n",
      "Objective value at t=48 is 0.45759170863424353\n",
      "Objective value at t=49 is 0.4575852701989543\n",
      "Objective value at t=50 is 0.45757961934184144\n",
      "Objective value at t=51 is 0.45757465795146907\n",
      "Objective value at t=52 is 0.4575703004239423\n",
      "Objective value at t=53 is 0.45756647202085954\n",
      "Objective value at t=54 is 0.45756310745098683\n",
      "Objective value at t=55 is 0.45756014964374314\n",
      "Objective value at t=56 is 0.4575575486873988\n",
      "Objective value at t=57 is 0.4575552609089144\n",
      "Objective value at t=58 is 0.457553248075756\n",
      "Objective value at t=59 is 0.4575514767028799\n",
      "Objective value at t=60 is 0.4575499174505133\n",
      "Objective value at t=61 is 0.4575485446004067\n",
      "Objective value at t=62 is 0.45754733559998456\n",
      "Objective value at t=63 is 0.4575462706653016\n",
      "Objective value at t=64 is 0.4575453324349832\n",
      "Objective value at t=65 is 0.45754450566840543\n",
      "Objective value at t=66 is 0.45754377698229776\n",
      "Objective value at t=67 is 0.4575431346207441\n",
      "Objective value at t=68 is 0.4575425682542345\n",
      "Objective value at t=69 is 0.45754206880400655\n",
      "Objective value at t=70 is 0.4575416282884194\n",
      "Objective value at t=71 is 0.45754123968852956\n",
      "Objective value at t=72 is 0.4575408968304191\n",
      "Objective value at t=73 is 0.4575405942821413\n",
      "Objective value at t=74 is 0.4575403272634336\n",
      "Objective value at t=75 is 0.4575400915665829\n",
      "Objective value at t=76 is 0.4575398834870429\n",
      "Objective value at t=77 is 0.4575396997625762\n",
      "Objective value at t=78 is 0.4575395375198596\n",
      "Objective value at t=79 is 0.457539394227619\n",
      "Objective value at t=80 is 0.4575392676554845\n",
      "Objective value at t=81 is 0.457539155837856\n",
      "Objective value at t=82 is 0.45753905704215925\n",
      "Objective value at t=83 is 0.4575389697409537\n",
      "Objective value at t=84 is 0.45753889258741504\n",
      "Objective value at t=85 is 0.4575388243937812\n",
      "Objective value at t=86 is 0.4575387641123976\n",
      "Objective value at t=87 is 0.45753871081904446\n",
      "Objective value at t=88 is 0.4575386636982688\n",
      "Objective value at t=89 is 0.4575386220304759\n",
      "Objective value at t=90 is 0.4575385851805683\n",
      "Objective value at t=91 is 0.45753855258794274\n",
      "Objective value at t=92 is 0.45753852375768445\n",
      "Objective value at t=93 is 0.4575384982528084\n",
      "Objective value at t=94 is 0.457538475687428\n",
      "Objective value at t=95 is 0.4575384557207346\n",
      "Objective value at t=96 is 0.4575384380516931\n",
      "Objective value at t=97 is 0.4575384224143659\n",
      "Objective value at t=98 is 0.4575384085737922\n",
      "Objective value at t=99 is 0.4575383963223549\n"
     ]
    }
   ],
   "source": [
    "lam = 1E-6\n",
    "stepsize = 1.0\n",
    "w, objvals_gd = grad_descent(x_train, y_train, lam, stepsize)"
   ]
  },
  {
   "cell_type": "markdown",
   "metadata": {},
   "source": [
    "## 3.2. Stochastic gradient descent (SGD)\n",
    "\n",
    "Define $Q_i (w) = \\log \\Big( 1 + \\exp \\big( - y_i x_i^T w \\big) \\Big) + \\frac{\\lambda}{2} \\| w \\|_2^2 $.\n",
    "\n",
    "The stochastic gradient at $w$ is $g_i = \\frac{\\partial Q_i }{ \\partial w} = -\\frac{y_i x_i }{1 + \\exp ( y_i x_i^T w)} + \\lambda w$."
   ]
  },
  {
   "cell_type": "code",
   "execution_count": 290,
   "metadata": {},
   "outputs": [],
   "source": [
    "# Calculate the objective Q_i and the gradient of Q_i\n",
    "# Inputs:\n",
    "#     w: d-by-1 matrix\n",
    "#     xi: 1-by-d matrix\n",
    "#     yi: scalar\n",
    "#     lam: scalar, the regularization parameter\n",
    "# Return:\n",
    "#     obj: scalar, the objective Q_i\n",
    "#     g: d-by-1 matrix, gradient of Q_i\n",
    "def stochastic_objective_gradient(w, xi, yi, lam):\n",
    "    d = xi.shape[0]\n",
    "    yx = yi * xi # 1-by-d matrix\n",
    "    yxw = float(numpy.dot(yx, w)) # scalar\n",
    "    \n",
    "    # calculate objective function Q_i\n",
    "    loss = numpy.log(1 + numpy.exp(-yxw)) # scalar\n",
    "    reg = lam / 2 * numpy.sum(w * w) # scalar\n",
    "    obj = loss + reg\n",
    "    \n",
    "    # calculate stochastic gradient\n",
    "    g_loss = -yx.T / (1 + numpy.exp(yxw)) # d-by-1 matrix\n",
    "    g = g_loss + lam * w # d-by-1 matrix\n",
    "    \n",
    "    return obj, g"
   ]
  },
  {
   "cell_type": "code",
   "execution_count": 291,
   "metadata": {},
   "outputs": [],
   "source": [
    "# SGD for solving logistic regression\n",
    "# Inputs:\n",
    "#     x: n-by-d matrix\n",
    "#     y: n-by-1 matrix\n",
    "#     lam: scalar, the regularization parameter\n",
    "#     stepsize: scalar\n",
    "#     max_epoch: integer, the maximal epochs\n",
    "#     w: d-by-1 matrix, initialization of w\n",
    "# Return:\n",
    "#     w: the solution\n",
    "#     objvals: record of each iteration's objective value\n",
    "def sgd(x, y, lam, stepsize, max_epoch=100, w=None):\n",
    "    n, d = x.shape\n",
    "    objvals = numpy.zeros(max_epoch) # store the objective values\n",
    "    if w is None:\n",
    "        w = numpy.zeros((d, 1)) # zero initialization\n",
    "    \n",
    "    for t in range(max_epoch):\n",
    "        # randomly shuffle the samples\n",
    "        rand_indices = numpy.random.permutation(n)\n",
    "        x_rand = x[rand_indices, :]\n",
    "        y_rand = y[rand_indices, :]\n",
    "        \n",
    "        objval = 0 # accumulate the objective values\n",
    "        for i in range(n):\n",
    "            xi = x_rand[i, :] # 1-by-d matrix\n",
    "            yi = float(y_rand[i, :]) # scalar\n",
    "            obj, g = stochastic_objective_gradient(w, xi, yi, lam)\n",
    "            objval += obj\n",
    "            w -= stepsize * g\n",
    "        \n",
    "        stepsize *= 0.9 # decrease step size\n",
    "        objval /= n\n",
    "        objvals[t] = objval\n",
    "        print('Objective value at epoch t=' + str(t) + ' is ' + str(objval))\n",
    "    \n",
    "    return w, objvals"
   ]
  },
  {
   "cell_type": "markdown",
   "metadata": {},
   "source": [
    "Run SGD."
   ]
  },
  {
   "cell_type": "code",
   "execution_count": 292,
   "metadata": {},
   "outputs": [
    {
     "name": "stdout",
     "output_type": "stream",
     "text": [
      "Objective value at epoch t=0 is 0.514966284212605\n",
      "Objective value at epoch t=1 is 0.5039644277628698\n",
      "Objective value at epoch t=2 is 0.5054873083700749\n",
      "Objective value at epoch t=3 is 0.4975189742252864\n",
      "Objective value at epoch t=4 is 0.4922093787631616\n",
      "Objective value at epoch t=5 is 0.484182394913068\n",
      "Objective value at epoch t=6 is 0.48427569432082085\n",
      "Objective value at epoch t=7 is 0.48279518408731953\n",
      "Objective value at epoch t=8 is 0.48491225815694844\n",
      "Objective value at epoch t=9 is 0.4693154275279669\n",
      "Objective value at epoch t=10 is 0.480158204844555\n",
      "Objective value at epoch t=11 is 0.4758493702778725\n",
      "Objective value at epoch t=12 is 0.4700793449321492\n",
      "Objective value at epoch t=13 is 0.47177586919480685\n",
      "Objective value at epoch t=14 is 0.47261230854006087\n",
      "Objective value at epoch t=15 is 0.46807118446301826\n",
      "Objective value at epoch t=16 is 0.46828813034432937\n",
      "Objective value at epoch t=17 is 0.46644069210157335\n",
      "Objective value at epoch t=18 is 0.467328027858299\n",
      "Objective value at epoch t=19 is 0.46622265697817356\n",
      "Objective value at epoch t=20 is 0.46566970217442927\n",
      "Objective value at epoch t=21 is 0.46488711784124803\n",
      "Objective value at epoch t=22 is 0.463198429235373\n",
      "Objective value at epoch t=23 is 0.46396492182516147\n",
      "Objective value at epoch t=24 is 0.4629129853179366\n",
      "Objective value at epoch t=25 is 0.46223460665669935\n",
      "Objective value at epoch t=26 is 0.4618012733493774\n",
      "Objective value at epoch t=27 is 0.46159892692032134\n",
      "Objective value at epoch t=28 is 0.4611481679576192\n",
      "Objective value at epoch t=29 is 0.46064249734728385\n",
      "Objective value at epoch t=30 is 0.46041405637702987\n",
      "Objective value at epoch t=31 is 0.4600414393765635\n",
      "Objective value at epoch t=32 is 0.45992552819590193\n",
      "Objective value at epoch t=33 is 0.45976165968258537\n",
      "Objective value at epoch t=34 is 0.4594897536133287\n",
      "Objective value at epoch t=35 is 0.4592984766182545\n",
      "Objective value at epoch t=36 is 0.4591718646793561\n",
      "Objective value at epoch t=37 is 0.45896793182347084\n",
      "Objective value at epoch t=38 is 0.4588525286498227\n",
      "Objective value at epoch t=39 is 0.4587154581133579\n",
      "Objective value at epoch t=40 is 0.4585962165302218\n",
      "Objective value at epoch t=41 is 0.45847101175797156\n",
      "Objective value at epoch t=42 is 0.45837938105758297\n",
      "Objective value at epoch t=43 is 0.45831412629081725\n",
      "Objective value at epoch t=44 is 0.45823703439217867\n",
      "Objective value at epoch t=45 is 0.458175818298747\n",
      "Objective value at epoch t=46 is 0.4581018162224526\n",
      "Objective value at epoch t=47 is 0.4580546979403522\n",
      "Objective value at epoch t=48 is 0.45800126458342344\n",
      "Objective value at epoch t=49 is 0.4579553019516924\n",
      "Objective value at epoch t=50 is 0.4579138095084778\n",
      "Objective value at epoch t=51 is 0.4578778405099199\n",
      "Objective value at epoch t=52 is 0.457842749894354\n",
      "Objective value at epoch t=53 is 0.4578125982063782\n",
      "Objective value at epoch t=54 is 0.4577857433776039\n",
      "Objective value at epoch t=55 is 0.45776052368773945\n",
      "Objective value at epoch t=56 is 0.45773766119158077\n",
      "Objective value at epoch t=57 is 0.45771860351665866\n",
      "Objective value at epoch t=58 is 0.45770044443925867\n",
      "Objective value at epoch t=59 is 0.4576847321613632\n",
      "Objective value at epoch t=60 is 0.4576699845716348\n",
      "Objective value at epoch t=61 is 0.4576570033378392\n",
      "Objective value at epoch t=62 is 0.4576452106424822\n",
      "Objective value at epoch t=63 is 0.45763431177863756\n",
      "Objective value at epoch t=64 is 0.45762487179238504\n",
      "Objective value at epoch t=65 is 0.45761627209553113\n",
      "Objective value at epoch t=66 is 0.45760857307788266\n",
      "Objective value at epoch t=67 is 0.45760158231338605\n",
      "Objective value at epoch t=68 is 0.45759529213078415\n",
      "Objective value at epoch t=69 is 0.45758964540969277\n",
      "Objective value at epoch t=70 is 0.4575845432729196\n",
      "Objective value at epoch t=71 is 0.4575799397787434\n",
      "Objective value at epoch t=72 is 0.4575758298962308\n",
      "Objective value at epoch t=73 is 0.457572122347906\n",
      "Objective value at epoch t=74 is 0.45756877296186743\n",
      "Objective value at epoch t=75 is 0.4575657694355695\n",
      "Objective value at epoch t=76 is 0.45756307025527465\n",
      "Objective value at epoch t=77 is 0.45756064077124153\n",
      "Objective value at epoch t=78 is 0.45755844352288266\n",
      "Objective value at epoch t=79 is 0.4575564701677043\n",
      "Objective value at epoch t=80 is 0.457554693458283\n",
      "Objective value at epoch t=81 is 0.4575530928001227\n",
      "Objective value at epoch t=82 is 0.45755165428746597\n",
      "Objective value at epoch t=83 is 0.4575503561919259\n",
      "Objective value at epoch t=84 is 0.4575491930125601\n",
      "Objective value at epoch t=85 is 0.45754814293314894\n",
      "Objective value at epoch t=86 is 0.4575471987389546\n",
      "Objective value at epoch t=87 is 0.45754634934930205\n",
      "Objective value at epoch t=88 is 0.45754558474934526\n",
      "Objective value at epoch t=89 is 0.4575448959885209\n",
      "Objective value at epoch t=90 is 0.45754427574045814\n",
      "Objective value at epoch t=91 is 0.4575437184287525\n",
      "Objective value at epoch t=92 is 0.45754321669836856\n",
      "Objective value at epoch t=93 is 0.45754276468353816\n",
      "Objective value at epoch t=94 is 0.4575423582562136\n",
      "Objective value at epoch t=95 is 0.45754199219448805\n",
      "Objective value at epoch t=96 is 0.45754166301778754\n",
      "Objective value at epoch t=97 is 0.4575413666639854\n",
      "Objective value at epoch t=98 is 0.45754109976847374\n",
      "Objective value at epoch t=99 is 0.4575408596971021\n"
     ]
    }
   ],
   "source": [
    "lam = 1E-6\n",
    "stepsize = 0.1\n",
    "w, objvals_sgd = sgd(x_train, y_train, lam, stepsize)"
   ]
  },
  {
   "cell_type": "markdown",
   "metadata": {},
   "source": [
    "# 4. Compare GD with SGD\n",
    "\n",
    "Plot objective function values against epochs."
   ]
  },
  {
   "cell_type": "code",
   "execution_count": 293,
   "metadata": {},
   "outputs": [
    {
     "data": {
      "image/png": "[encoded data removed]",
      "text/plain": [
       "<Figure size 432x288 with 1 Axes>"
      ]
     },
     "metadata": {
      "needs_background": "light"
     },
     "output_type": "display_data"
    }
   ],
   "source": [
    "#!/usr/bin/env python\n",
    "import matplotlib.pyplot as plt\n",
    "%matplotlib inline\n",
    "\n",
    "fig = plt.figure(figsize=(6, 4))\n",
    "\n",
    "epochs_gd = range(len(objvals_gd))\n",
    "epochs_sgd = range(len(objvals_sgd))\n",
    "\n",
    "line0, = plt.plot(epochs_gd, objvals_gd, '--b', LineWidth=4)\n",
    "line1, = plt.plot(epochs_sgd, objvals_sgd, '-r', LineWidth=2)\n",
    "plt.xlabel('Epochs', FontSize=20)\n",
    "plt.ylabel('Objective Value', FontSize=20)\n",
    "plt.xticks(FontSize=16)\n",
    "plt.yticks(FontSize=16)\n",
    "plt.legend([line0, line1], ['GD', 'SGD'], fontsize=20)\n",
    "plt.tight_layout()\n",
    "plt.show()\n",
    "fig.savefig('compare_gd_sgd.pdf', format='pdf', dpi=1200)"
   ]
  },
  {
   "cell_type": "markdown",
   "metadata": {},
   "source": [
    "# 5. Prediction"
   ]
  },
  {
   "cell_type": "code",
   "execution_count": 294,
   "metadata": {},
   "outputs": [],
   "source": [
    "# Predict class label\n",
    "# Inputs:\n",
    "#     w: d-by-1 matrix\n",
    "#     X: m-by-d matrix\n",
    "# Return:\n",
    "#     f: m-by-1 matrix, the predictions\n",
    "def predict(w, X):\n",
    "    xw = numpy.dot(X, w)\n",
    "    f = numpy.sign(xw)\n",
    "    return f"
   ]
  },
  {
   "cell_type": "code",
   "execution_count": 295,
   "metadata": {},
   "outputs": [
    {
     "name": "stdout",
     "output_type": "stream",
     "text": [
      "Training classification error is 0.216260162601626\n"
     ]
    }
   ],
   "source": [
    "# evaluate training error\n",
    "f_train = predict(w, x_train)\n",
    "diff = numpy.abs(f_train - y_train) / 2\n",
    "error_train = numpy.mean(diff)\n",
    "print('Training classification error is ' + str(error_train))"
   ]
  },
  {
   "cell_type": "code",
   "execution_count": 296,
   "metadata": {},
   "outputs": [
    {
     "name": "stdout",
     "output_type": "stream",
     "text": [
      "Test classification error is 0.2549019607843137\n"
     ]
    }
   ],
   "source": [
    "# evaluate test error\n",
    "f_test = predict(w, x_test)\n",
    "diff = numpy.abs(f_test - y_test) / 2\n",
    "error_test = numpy.mean(diff)\n",
    "print('Test classification error is ' + str(error_test))"
   ]
  },
  {
   "cell_type": "markdown",
   "metadata": {},
   "source": [
    "# 6. Mini-batch SGD (fill the code)\n",
    "\n",
    "Define $Q_I (w) = \\frac{1}{b} \\sum_{i \\in I} \\log \\Big( 1 + \\exp \\big( - y_i x_i^T w \\big) \\Big) + \\frac{\\lambda}{2} \\| w \\|_2^2 $, where $I$ is a set containing $b$ indices randomly drawn from $\\{ 1, \\cdots , n \\}$ without replacement.\n",
    "\n",
    "The stochastic gradient at $w$ is $g_I = \\frac{\\partial Q_I }{ \\partial w} = \\frac{1}{b} \\sum_{i \\in I} \\frac{- y_i x_i }{1 + \\exp ( y_i x_i^T w)} + \\lambda w$."
   ]
  },
  {
   "cell_type": "markdown",
   "metadata": {},
   "source": [
    "## 6.1. Compute the objective $Q_I$ and its gradient using a batch of samples"
   ]
  },
  {
   "cell_type": "code",
   "execution_count": 297,
   "metadata": {},
   "outputs": [],
   "source": [
    "# Calculate the objective Q_I and the gradient of Q_I\n",
    "# Inputs:\n",
    "#     w: d-by-1 matrix\n",
    "#     xi: 1-by-d matrix\n",
    "#     yi: scalar\n",
    "#     lam: scalar, the regularization parameter\n",
    "#     b: integer, the batch size\n",
    "# Return:\n",
    "#     obj: scalar, the objective Q_i\n",
    "#     g: d-by-1 matrix, gradient of Q_i\n",
    "def mb_stochastic_objective_gradient(w, xi, yi, lam, b):\n",
    "    # Fill the function\n",
    "    # Follow the implementation of stochastic_objective_gradient\n",
    "    # Use matrix-vector multiplication; do not use FOR LOOP of vector-vector multiplications\n",
    "\n",
    "    d = xi.shape[1]\n",
    "    yx = yi * xi # 1-by-d matrix\n",
    "    yxw = float(numpy.dot(yx, w)) # scalar\n",
    "    # calculate objective function Q_i\n",
    "    loss = numpy.log(1 + numpy.exp(-yxw)) # scalar\n",
    "        # calculate stochastic gradient\n",
    "    g_loss = -yx.T / (1 + numpy.exp(yxw)) # d-by-1 matrix\n",
    "\n",
    "    \n",
    "    reg = lam / 2 * numpy.sum(w * w) # scalar\n",
    "    obj =  loss + reg\n",
    "    g =    g_loss + lam * w # d-by-1 matrix\n",
    "    \n",
    "    return obj, g\n"
   ]
  },
  {
   "cell_type": "markdown",
   "metadata": {},
   "source": [
    "## 6.2. Implement mini-batch SGD"
   ]
  },
  {
   "cell_type": "code",
   "execution_count": 298,
   "metadata": {},
   "outputs": [],
   "source": [
    "import random\n",
    "# Mini-Batch SGD for solving logistic regression\n",
    "# Inputs:\n",
    "#     x: n-by-d matrix\n",
    "#     y: n-by-1 matrix\n",
    "#     lam: scalar, the regularization parameter\n",
    "#     b: integer, the batch size\n",
    "#     stepsize: scalar\n",
    "#     max_epoch: integer, the maximal epochs\n",
    "#     w: d-by-1 matrix, initialization of w\n",
    "# Return:\n",
    "#     w: the solution\n",
    "#     objvals: record of each iteration's objective value\n",
    "def mb_sgd(x, y, lam, b, stepsize, max_epoch=100, w=None):\n",
    "    # Fill the function\n",
    "    # Follow the implementation of sgd\n",
    "    # Record one objective value per epoch (not per iteration!)\n",
    "    n, d = x.shape\n",
    "    objvals = numpy.zeros(max_epoch) # store the objective values\n",
    "    if w is None:\n",
    "        w = numpy.zeros((d, 1)) # zero initialization\n",
    "    \n",
    "    for t in range(max_epoch):\n",
    "        rand_indices = numpy.random.permutation(b)\n",
    "#         rand_indices = numpy.random.sample(range(n), b)\n",
    "        x_rand = x[rand_indices, :]\n",
    "        y_rand = y[rand_indices, :]      \n",
    "        objval = 0 # accumulate the objective values \n",
    "        for i in range(b):\n",
    "            xi = x_rand[i, :] # 1-by-d matrix\n",
    "            yi = float(y_rand[i, :]) # scalar\n",
    "            obj, g = mb_stochastic_objective_gradient(w, xi, yi, lam, b)\n",
    "            objval += obj\n",
    "            w -= stepsize * g\n",
    "        \n",
    "        stepsize *= 0.9 # decrease step size\n",
    "        objval /= b\n",
    "        objvals[t] = objval\n",
    "        print('Objective value at t=' + str(t) + ' is ' + str(objval))\n",
    "    return w, objvals\n",
    "\n"
   ]
  },
  {
   "cell_type": "code",
   "execution_count": 299,
   "metadata": {},
   "outputs": [],
   "source": [
    "#         rand_indices = random.sample(range(100), 5)\n",
    "#         print(rand_indices)\n",
    "#         x_rand = x_train[rand_indices, :]\n",
    "#         print(x_rand)\n",
    "#         y_rand = y_train[rand_indices, :]\n",
    "#         for i in range(5):\n",
    "#             xi = x_rand[i, :] # 1-by-d matrix\n",
    "#             yi = float(y_rand[i, :]) # scalar\n",
    "#             print('here')\n",
    "#             print(xi)\n",
    "#             print(yi)\n",
    "###why random.sample(range(n), 5b) cannot be used here??"
   ]
  },
  {
   "cell_type": "markdown",
   "metadata": {},
   "source": [
    "## 6.3. Run MB-SGD"
   ]
  },
  {
   "cell_type": "code",
   "execution_count": 320,
   "metadata": {
    "scrolled": true
   },
   "outputs": [
    {
     "name": "stdout",
     "output_type": "stream",
     "text": [
      "Objective value at t=0 is 0.705413208689836\n",
      "Objective value at t=1 is 0.6657748722224331\n",
      "Objective value at t=2 is 0.6351827063696337\n",
      "Objective value at t=3 is 0.6108178932431888\n",
      "Objective value at t=4 is 0.5913999246430359\n",
      "Objective value at t=5 is 0.5755495540073996\n",
      "Objective value at t=6 is 0.5623763738030497\n",
      "Objective value at t=7 is 0.5513181778376528\n",
      "Objective value at t=8 is 0.5420443901739685\n",
      "Objective value at t=9 is 0.5340664198179216\n",
      "Objective value at t=10 is 0.5272034543440627\n",
      "Objective value at t=11 is 0.5212682421015858\n",
      "Objective value at t=12 is 0.5161581873199862\n",
      "Objective value at t=13 is 0.5116721579696611\n",
      "Objective value at t=14 is 0.5077709978238025\n",
      "Objective value at t=15 is 0.5043347794903436\n",
      "Objective value at t=16 is 0.5012970980066135\n",
      "Objective value at t=17 is 0.49864425190766626\n",
      "Objective value at t=18 is 0.4962989806312974\n",
      "Objective value at t=19 is 0.4942137478802425\n",
      "Objective value at t=20 is 0.4923608726014698\n",
      "Objective value at t=21 is 0.490717525232383\n",
      "Objective value at t=22 is 0.48925012647299565\n",
      "Objective value at t=23 is 0.4879529000396143\n",
      "Objective value at t=24 is 0.4867890350431121\n",
      "Objective value at t=25 is 0.48575297027882375\n",
      "Objective value at t=26 is 0.4848237368521178\n",
      "Objective value at t=27 is 0.48399630642100955\n",
      "Objective value at t=28 is 0.483254861812081\n",
      "Objective value at t=29 is 0.48259045305582804\n",
      "Objective value at t=30 is 0.4819952083105965\n",
      "Objective value at t=31 is 0.4814611420844322\n",
      "Objective value at t=32 is 0.48098374937229504\n",
      "Objective value at t=33 is 0.4805545734686873\n",
      "Objective value at t=34 is 0.4801697344709177\n",
      "Objective value at t=35 is 0.47982415123419303\n",
      "Objective value at t=36 is 0.4795140589271636\n",
      "Objective value at t=37 is 0.47923541574553247\n",
      "Objective value at t=38 is 0.4789851290099679\n",
      "Objective value at t=39 is 0.47876048994097553\n",
      "Objective value at t=40 is 0.4785585541709186\n",
      "Objective value at t=41 is 0.4783770102161363\n",
      "Objective value at t=42 is 0.47821385635142644\n",
      "Objective value at t=43 is 0.47806720881097253\n",
      "Objective value at t=44 is 0.4779353562544123\n",
      "Objective value at t=45 is 0.4778167769557418\n",
      "Objective value at t=46 is 0.4777101823558554\n",
      "Objective value at t=47 is 0.4776143056231032\n",
      "Objective value at t=48 is 0.477528080568644\n",
      "Objective value at t=49 is 0.47745052013095546\n",
      "Objective value at t=50 is 0.47738074952340315\n",
      "Objective value at t=51 is 0.4773179953240248\n",
      "Objective value at t=52 is 0.47726154051971104\n",
      "Objective value at t=53 is 0.4772107530530738\n",
      "Objective value at t=54 is 0.47716505846698076\n",
      "Objective value at t=55 is 0.4771239451898085\n",
      "Objective value at t=56 is 0.4770869531388342\n",
      "Objective value at t=57 is 0.47705367284573613\n",
      "Objective value at t=58 is 0.4770237283845312\n",
      "Objective value at t=59 is 0.47699678176351795\n",
      "Objective value at t=60 is 0.47697253319142174\n",
      "Objective value at t=61 is 0.4769507157451411\n",
      "Objective value at t=62 is 0.4769310820187558\n",
      "Objective value at t=63 is 0.47691341402264836\n",
      "Objective value at t=64 is 0.4768975159723347\n",
      "Objective value at t=65 is 0.4768832080251505\n",
      "Objective value at t=66 is 0.47687033291957764\n",
      "Objective value at t=67 is 0.4768587461754506\n",
      "Objective value at t=68 is 0.476848319298495\n",
      "Objective value at t=69 is 0.47683893541338546\n",
      "Objective value at t=70 is 0.47683049061412525\n",
      "Objective value at t=71 is 0.47682289085795104\n",
      "Objective value at t=72 is 0.4768160513241766\n",
      "Objective value at t=73 is 0.4768098962022665\n",
      "Objective value at t=74 is 0.4768043566915632\n",
      "Objective value at t=75 is 0.47679937134023\n",
      "Objective value at t=76 is 0.4767948847371024\n",
      "Objective value at t=77 is 0.4767908468937515\n",
      "Objective value at t=78 is 0.47678721292289816\n",
      "Objective value at t=79 is 0.4767839424480961\n",
      "Objective value at t=80 is 0.4767809990768901\n",
      "Objective value at t=81 is 0.47677835009258523\n",
      "Objective value at t=82 is 0.47677596607096584\n",
      "Objective value at t=83 is 0.4767738204821099\n",
      "Objective value at t=84 is 0.47677188948619015\n",
      "Objective value at t=85 is 0.47677015160353126\n",
      "Objective value at t=86 is 0.47676858753303464\n",
      "Objective value at t=87 is 0.4767671798803497\n",
      "Objective value at t=88 is 0.4767659130167061\n",
      "Objective value at t=89 is 0.4767647728416124\n",
      "Objective value at t=90 is 0.47676374669637395\n",
      "Objective value at t=91 is 0.47676282317118013\n",
      "Objective value at t=92 is 0.47676199200363883\n",
      "Objective value at t=93 is 0.4767612439568407\n",
      "Objective value at t=94 is 0.4767605707180659\n",
      "Objective value at t=95 is 0.4767599648070971\n",
      "Objective value at t=96 is 0.4767594194896113\n",
      "Objective value at t=97 is 0.4767589287057291\n",
      "Objective value at t=98 is 0.4767584870016453\n",
      "Objective value at t=99 is 0.47675808946895243\n"
     ]
    }
   ],
   "source": [
    "# MB-SGD with batch size b=8\n",
    "lam = 1E-6 # do not change\n",
    "b = 8 # do not change\n",
    "stepsize = 0.04 # you must tune this parameter\n",
    "\n",
    "w, objvals_mbsgd8 = mb_sgd(x_train, y_train, lam, b, stepsize)"
   ]
  },
  {
   "cell_type": "code",
   "execution_count": 321,
   "metadata": {},
   "outputs": [
    {
     "data": {
      "text/plain": [
       "(615, 9)"
      ]
     },
     "execution_count": 321,
     "metadata": {},
     "output_type": "execute_result"
    }
   ],
   "source": [
    "x_train.shape"
   ]
  },
  {
   "cell_type": "code",
   "execution_count": 322,
   "metadata": {},
   "outputs": [
    {
     "name": "stdout",
     "output_type": "stream",
     "text": [
      "Objective value at t=0 is 1.3177441425431766\n",
      "Objective value at t=1 is 1.7263876449877908\n",
      "Objective value at t=2 is 1.3987681806377454\n",
      "Objective value at t=3 is 1.1377520382662687\n",
      "Objective value at t=4 is 0.944771398767716\n",
      "Objective value at t=5 is 1.2033632563391832\n",
      "Objective value at t=6 is 0.9678757301176968\n",
      "Objective value at t=7 is 1.012323082752809\n",
      "Objective value at t=8 is 0.7186748860277323\n",
      "Objective value at t=9 is 0.8781098785557687\n",
      "Objective value at t=10 is 0.6245387369594712\n",
      "Objective value at t=11 is 0.8026986927846388\n",
      "Objective value at t=12 is 0.7205520708431781\n",
      "Objective value at t=13 is 0.6371483493513509\n",
      "Objective value at t=14 is 0.6219852650364543\n",
      "Objective value at t=15 is 0.5981927282487203\n",
      "Objective value at t=16 is 0.5615860991622833\n",
      "Objective value at t=17 is 0.5885692672995234\n",
      "Objective value at t=18 is 0.5707990811430066\n",
      "Objective value at t=19 is 0.5258964900039538\n",
      "Objective value at t=20 is 0.5361134533937216\n",
      "Objective value at t=21 is 0.5085752944920432\n",
      "Objective value at t=22 is 0.5281297862735288\n",
      "Objective value at t=23 is 0.4992525895472888\n",
      "Objective value at t=24 is 0.49879805988656384\n",
      "Objective value at t=25 is 0.49851456391969623\n",
      "Objective value at t=26 is 0.49486743393404325\n",
      "Objective value at t=27 is 0.4852703556876822\n",
      "Objective value at t=28 is 0.4831518586868673\n",
      "Objective value at t=29 is 0.48135197853694467\n",
      "Objective value at t=30 is 0.4750729899456833\n",
      "Objective value at t=31 is 0.4722349563883623\n",
      "Objective value at t=32 is 0.4725639376987722\n",
      "Objective value at t=33 is 0.4697757414149775\n",
      "Objective value at t=34 is 0.467805533778074\n",
      "Objective value at t=35 is 0.46435316114618985\n",
      "Objective value at t=36 is 0.46229216733542855\n",
      "Objective value at t=37 is 0.46126118186023884\n",
      "Objective value at t=38 is 0.4597633845970946\n",
      "Objective value at t=39 is 0.4593657938354996\n",
      "Objective value at t=40 is 0.4568931749273828\n",
      "Objective value at t=41 is 0.45688559329495015\n",
      "Objective value at t=42 is 0.45606780942093333\n",
      "Objective value at t=43 is 0.45496809498409124\n",
      "Objective value at t=44 is 0.45439323023111944\n",
      "Objective value at t=45 is 0.45363795775304677\n",
      "Objective value at t=46 is 0.4529720975031055\n",
      "Objective value at t=47 is 0.4525369860280085\n",
      "Objective value at t=48 is 0.45197666698239525\n",
      "Objective value at t=49 is 0.4514383265268677\n",
      "Objective value at t=50 is 0.4511945494392832\n",
      "Objective value at t=51 is 0.4507975071655802\n",
      "Objective value at t=52 is 0.45049425896609735\n",
      "Objective value at t=53 is 0.45021039370176963\n",
      "Objective value at t=54 is 0.449939534672388\n",
      "Objective value at t=55 is 0.44970657598212627\n",
      "Objective value at t=56 is 0.4494873348320567\n",
      "Objective value at t=57 is 0.4492848824562363\n",
      "Objective value at t=58 is 0.44911752808480826\n",
      "Objective value at t=59 is 0.4489561563705276\n",
      "Objective value at t=60 is 0.4488175197419193\n",
      "Objective value at t=61 is 0.44868473525235264\n",
      "Objective value at t=62 is 0.44857741207985263\n",
      "Objective value at t=63 is 0.44847498439953426\n",
      "Objective value at t=64 is 0.44837879439315714\n",
      "Objective value at t=65 is 0.4482982287421046\n",
      "Objective value at t=66 is 0.4482238501711638\n",
      "Objective value at t=67 is 0.44815605297438527\n",
      "Objective value at t=68 is 0.4480962180405309\n",
      "Objective value at t=69 is 0.44804109917188273\n",
      "Objective value at t=70 is 0.4479918912820321\n",
      "Objective value at t=71 is 0.4479476847798427\n",
      "Objective value at t=72 is 0.4479078133555825\n",
      "Objective value at t=73 is 0.4478720261358344\n",
      "Objective value at t=74 is 0.447839359023492\n",
      "Objective value at t=75 is 0.44781068954708486\n",
      "Objective value at t=76 is 0.4477843894893328\n",
      "Objective value at t=77 is 0.44776099704510103\n",
      "Objective value at t=78 is 0.44773968626660227\n",
      "Objective value at t=79 is 0.4477207693972935\n",
      "Objective value at t=80 is 0.4477036794165446\n",
      "Objective value at t=81 is 0.44768823155223275\n",
      "Objective value at t=82 is 0.44767434873072925\n",
      "Objective value at t=83 is 0.4476618636968812\n",
      "Objective value at t=84 is 0.44765060860018824\n",
      "Objective value at t=85 is 0.44764049365912306\n",
      "Objective value at t=86 is 0.4476313591869524\n",
      "Objective value at t=87 is 0.4476231791054771\n",
      "Objective value at t=88 is 0.4476158046433767\n",
      "Objective value at t=89 is 0.4476091619052781\n",
      "Objective value at t=90 is 0.4476031821634307\n",
      "Objective value at t=91 is 0.44759779496212715\n",
      "Objective value at t=92 is 0.44759296585488334\n",
      "Objective value at t=93 is 0.4475885990701045\n",
      "Objective value at t=94 is 0.44758468332929435\n",
      "Objective value at t=95 is 0.4475811540842585\n",
      "Objective value at t=96 is 0.4475779791753024\n",
      "Objective value at t=97 is 0.44757512323794657\n",
      "Objective value at t=98 is 0.44757255002956253\n",
      "Objective value at t=99 is 0.4475702341591486\n"
     ]
    }
   ],
   "source": [
    "# MB-SGD with batch size b=64\n",
    "lam = 1E-6 # do not change\n",
    "b = 64 # do not change\n",
    "stepsize = 1.05 # you must tune this parameter\n",
    "\n",
    "#w, objvals_mbsgd64 = mb_sgd(x_train[range(576),:], y_train[range(576),:], lam, b, stepsize)\n",
    "\n",
    "w, objvals_mbsgd64 = mb_sgd(x_train, y_train, lam, b, stepsize)\n"
   ]
  },
  {
   "cell_type": "markdown",
   "metadata": {},
   "source": [
    "# 7. Plot and compare GD, SGD, and MB-SGD"
   ]
  },
  {
   "cell_type": "markdown",
   "metadata": {},
   "source": [
    "You are required to compare the following algorithms:\n",
    "\n",
    "- Gradient descent (GD)\n",
    "\n",
    "- SGD\n",
    "\n",
    "- MB-SGD with b=8\n",
    "\n",
    "- MB-SGD with b=64\n",
    "\n",
    "Follow the code in Section 4 to plot ```objective function value``` against ```epochs```. There should be four curves in the plot; each curve corresponds to one algorithm."
   ]
  },
  {
   "cell_type": "code",
   "execution_count": 323,
   "metadata": {},
   "outputs": [
    {
     "data": {
      "image/png": "[encoded data removed]",
      "text/plain": [
       "<Figure size 432x288 with 1 Axes>"
      ]
     },
     "metadata": {
      "needs_background": "light"
     },
     "output_type": "display_data"
    }
   ],
   "source": [
    "# plot the 4 curves:\n",
    "#!/usr/bin/env python\n",
    "import matplotlib.pyplot as plt\n",
    "%matplotlib inline\n",
    "\n",
    "fig = plt.figure(figsize=(6, 4))\n",
    "\n",
    "epochs_gd = range(len(objvals_gd))\n",
    "epochs_sgd = range(len(objvals_sgd))\n",
    "epochs_mbsgd8 = range(len(objvals_mbsgd8))\n",
    "epochs_mbsgd64 = range(len(objvals_mbsgd64))\n",
    "\n",
    "line0, = plt.plot(epochs_gd, objvals_gd, '--b', LineWidth=4)\n",
    "line1, = plt.plot(epochs_sgd, objvals_sgd, '-r', LineWidth=2)\n",
    "line2, = plt.plot(epochs_mbsgd8, objvals_mbsgd8, '-+k', LineWidth=2)\n",
    "line3, = plt.plot(epochs_mbsgd64, objvals_mbsgd64, '-m', LineWidth=2)\n",
    "\n",
    "plt.xlabel('Epochs', FontSize=20)\n",
    "plt.ylabel('Objective Value', FontSize=20)\n",
    "plt.xticks(FontSize=16)\n",
    "plt.yticks(FontSize=16)\n",
    "plt.legend([line0, line1, line2, line3], ['GD', 'SGD', 'MBSGD8','MBSGD64'], fontsize=12)\n",
    "plt.tight_layout()\n",
    "plt.show()\n",
    "fig.savefig('compare_gd_sgd_MBSGD.pdf', format='pdf', dpi=1200)"
   ]
  },
  {
   "cell_type": "markdown",
   "metadata": {},
   "source": []
  },
  {
   "cell_type": "code",
   "execution_count": null,
   "metadata": {},
   "outputs": [],
   "source": []
  },
  {
   "cell_type": "code",
   "execution_count": null,
   "metadata": {},
   "outputs": [],
   "source": []
  }
 ],
 "metadata": {
  "kernelspec": {
   "display_name": "Python 3",
   "language": "python",
   "name": "python3"
  },
  "language_info": {
   "codemirror_mode": {
    "name": "ipython",
    "version": 3
   },
   "file_extension": ".py",
   "mimetype": "text/x-python",
   "name": "python",
   "nbconvert_exporter": "python",
   "pygments_lexer": "ipython3",
   "version": "3.7.4"
  }
 },
 "nbformat": 4,
 "nbformat_minor": 2
}
